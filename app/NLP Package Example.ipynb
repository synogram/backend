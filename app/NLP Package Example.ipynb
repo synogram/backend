{
 "cells": [
  {
   "cell_type": "code",
   "execution_count": 1,
   "metadata": {},
   "outputs": [],
   "source": [
    "# !pip install -r ../requirements.txt"
   ]
  },
  {
   "cell_type": "code",
   "execution_count": 1,
   "metadata": {},
   "outputs": [],
   "source": [
    "import nlp"
   ]
  },
  {
   "cell_type": "markdown",
   "metadata": {},
   "source": [
    "## Load Models\n",
    "For Word2VecModelUser, we are loading simple toy model, thus it will limits a lot of vocabularies and won't capture actual meaning of the words. Also SummaryModelUser will download ~ 1.5 GB model on first load if not already cached."
   ]
  },
  {
   "cell_type": "code",
   "execution_count": 2,
   "metadata": {},
   "outputs": [],
   "source": [
    "nlp.WordEmbedModel.load()\n",
    "nlp.SummaryModelUser.load()"
   ]
  },
  {
   "cell_type": "markdown",
   "metadata": {},
   "source": [
    "## Sematic Field using Word2VecModelUser\n",
    "Finding most similar words, and provide score and vector representation of the words."
   ]
  },
  {
   "cell_type": "code",
   "execution_count": 3,
   "metadata": {},
   "outputs": [
    {
     "data": {
      "text/plain": [
       "(['standard',\n",
       "  'same',\n",
       "  'and',\n",
       "  '.',\n",
       "  'well',\n",
       "  'as',\n",
       "  'example',\n",
       "  'also',\n",
       "  'which',\n",
       "  'for'],\n",
       " [0.9047600736027446,\n",
       "  0.889167689588121,\n",
       "  0.883785102348854,\n",
       "  0.8814707816249208,\n",
       "  0.8813972539185286,\n",
       "  0.8792580426548657,\n",
       "  0.8727774424302214,\n",
       "  0.8623048776902924,\n",
       "  0.8617497652676925,\n",
       "  0.859109986274347])"
      ]
     },
     "execution_count": 3,
     "metadata": {},
     "output_type": "execute_result"
    }
   ],
   "source": [
    "nlp.WordEmbedModel.most_similar('standard', 'and', topn=10)"
   ]
  },
  {
   "cell_type": "markdown",
   "metadata": {},
   "source": [
    "## Summarizing Article using SummaryModelUser\n",
    "SummaryModelUser uses https://pypi.org/project/bert-extractive-summarizer/ which utilizes HuggingFace Pytorch transformers library to run extractive summarizations. SummaryModelUser for now is simple wrapper for these libraries."
   ]
  },
  {
   "cell_type": "code",
   "execution_count": 4,
   "metadata": {},
   "outputs": [],
   "source": [
    "article = \"\"\"\n",
    "A computer is a machine that can be instructed to carry out sequences of arithmetic or logical \n",
    "operations automatically via computer programming. Modern computers have the ability to follow \n",
    "generalized sets of operations, called programs. These programs enable computers to perform\n",
    "an extremely wide range of tasks. A \"complete\" computer including the hardware, the \n",
    "operating system (main software), and peripheral equipment required and\n",
    "used for \"full\" operation can be referred to as a computer system. This term may as well be\n",
    "used for a group of computers that are connected and work together, in particular a computer network or\n",
    "computer cluster.\n",
    "\n",
    "Computers are used as control systems for a wide variety of industrial and consumer devices.\n",
    "This includes simple special purpose devices like microwave ovens and remote controls, factory devices\n",
    "such as industrial robots and computer-aided design, and also general purpose devices like personal\n",
    "computers and mobile devices such as smartphones. The Internet is run on computers and it connects hundreds\n",
    "of millions of other computers and their users.\n",
    "\"\"\""
   ]
  },
  {
   "cell_type": "code",
   "execution_count": 5,
   "metadata": {},
   "outputs": [
    {
     "data": {
      "text/plain": [
       "'A computer is a machine that can be instructed to carry out sequences of arithmetic or logical  operations automatically via computer programming. These programs enable computers to perform an extremely wide range of tasks.'"
      ]
     },
     "execution_count": 5,
     "metadata": {},
     "output_type": "execute_result"
    }
   ],
   "source": [
    "summary = nlp.SummaryModelUser.summarize(article)\n",
    "summary.replace('\\n', ' ')"
   ]
  },
  {
   "cell_type": "code",
   "execution_count": null,
   "metadata": {},
   "outputs": [],
   "source": []
  }
 ],
 "metadata": {
  "kernelspec": {
   "display_name": "Python 3",
   "language": "python",
   "name": "python3"
  },
  "language_info": {
   "codemirror_mode": {
    "name": "ipython",
    "version": 3
   },
   "file_extension": ".py",
   "mimetype": "text/x-python",
   "name": "python",
   "nbconvert_exporter": "python",
   "pygments_lexer": "ipython3",
   "version": "3.7.4"
  }
 },
 "nbformat": 4,
 "nbformat_minor": 2
}
